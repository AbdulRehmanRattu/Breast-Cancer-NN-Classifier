{
 "cells": [
  {
   "cell_type": "code",
   "execution_count": 16,
   "metadata": {},
   "outputs": [
    {
     "name": "stdout",
     "output_type": "stream",
     "text": [
      "Accuracy: 90.35%\n"
     ]
    }
   ],
   "source": [
    "import numpy as np\n",
    "from sklearn.model_selection import train_test_split\n",
    "from sklearn.datasets import load_breast_cancer\n",
    "\n",
    "# Load breast cancer dataset\n",
    "data = load_breast_cancer()\n",
    "X = data.data\n",
    "y = data.target\n",
    "\n",
    "# Standardize the data\n",
    "X_mean = X.mean(axis=0)\n",
    "X_std = X.std(axis=0)\n",
    "X = (X - X_mean) / X_std\n",
    "\n",
    "# Split the data into training and testing sets\n",
    "X_train, X_test, y_train, y_test = train_test_split(X, y, test_size=0.2, random_state=42)\n",
    "\n",
    "# Initialize neural network parameters\n",
    "n_features = X_train.shape[1]\n",
    "n_hidden1 = 128\n",
    "n_hidden2 = 128\n",
    "n_epochs = 1000\n",
    "learning_rate = 0.01\n",
    "\n",
    "# Initialize weights and biases\n",
    "weights = [np.random.randn(n_features, n_hidden1),\n",
    "           np.random.randn(n_hidden1, n_hidden2),\n",
    "           np.random.randn(n_hidden2, 1)]\n",
    "biases = [np.zeros((1, n_hidden1)),\n",
    "          np.zeros((1, n_hidden2)),\n",
    "          np.zeros((1, 1))]\n",
    "\n",
    "def sigmoid(x):\n",
    "    return 1 / (1 + np.exp(-x))\n",
    "\n",
    "def forward(X, weights, biases):\n",
    "    a1 = X @ weights[0] + biases[0]\n",
    "    h1 = sigmoid(a1)\n",
    "    a2 = h1 @ weights[1] + biases[1]\n",
    "    h2 = sigmoid(a2)\n",
    "    a3 = h2 @ weights[2] + biases[2]\n",
    "    output = sigmoid(a3)\n",
    "    return output, h1, h2\n",
    "\n",
    "def backpropagation(X, y, weights, biases, a, h1, h2, learning_rate):\n",
    "    error = a - y\n",
    "    delta3 = error * a * (1 - a)\n",
    "    delta_b3 = np.sum(delta3, axis=0, keepdims=True) / X.shape[0]\n",
    "    delta_w3 = h2.T @ delta3 / X.shape[0]\n",
    "\n",
    "    delta2 = (delta3 @ weights[2].T) * h2 * (1 - h2)\n",
    "    delta_b2 = np.sum(delta2, axis=0, keepdims=True) / X.shape[0]\n",
    "    delta_w2 = h1.T @ delta2 / X.shape[0]\n",
    "\n",
    "    delta1 = (delta2 @ weights[1].T) * h1 * (1 - h1)\n",
    "    delta_b1 = np.sum(delta1, axis=0, keepdims=True) / X.shape[0]\n",
    "    delta_w1 = X.T @ delta1 / X.shape[0]\n",
    "\n",
    "    # Update weights and biases\n",
    "    weights[0] -= learning_rate * delta_w1\n",
    "    biases[0] -= learning_rate * delta_b1\n",
    "    weights[1] -= learning_rate * delta_w2\n",
    "    biases[1] -= learning_rate * delta_b2\n",
    "    weights[2] -= learning_rate * delta_w3\n",
    "    biases[2] -= learning_rate * delta_b3\n",
    "\n",
    "    return weights, biases\n",
    "\n",
    "# Training the neural network\n",
    "for epoch in range(1, n_epochs + 1):\n",
    "    a, h1, h2 = forward(X_train, weights, biases)\n",
    "    weights, biases = backpropagation(X_train, y_train.reshape(-1, 1), weights, biases, a, h1, h2, learning_rate)\n",
    "\n",
    "# Evaluate the performance of the trained neural network on the test set\n",
    "y_pred, _, _ = forward(X_test, weights, biases)\n",
    "y_pred_class = np.round(y_pred)\n",
    "accuracy = np.mean(y_pred_class.flatten() == y_test)\n",
    "print(f\"Accuracy: {accuracy * 100:.2f}%\")\n"
   ]
  }
 ],
 "metadata": {
  "kernelspec": {
   "display_name": "Python 3",
   "language": "python",
   "name": "python3"
  },
  "language_info": {
   "codemirror_mode": {
    "name": "ipython",
    "version": 3
   },
   "file_extension": ".py",
   "mimetype": "text/x-python",
   "name": "python",
   "nbconvert_exporter": "python",
   "pygments_lexer": "ipython3",
   "version": "3.11.2"
  }
 },
 "nbformat": 4,
 "nbformat_minor": 2
}
